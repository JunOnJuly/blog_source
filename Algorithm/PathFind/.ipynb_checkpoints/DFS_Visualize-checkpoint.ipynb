{
 "cells": [
  {
   "cell_type": "code",
   "execution_count": 1,
   "id": "ad51e27e-89b5-41ed-bb7c-a8b802e1c579",
   "metadata": {},
   "outputs": [],
   "source": [
    "from matplotlib import pyplot as plt\n",
    "import matplotlib.animation as animation\n",
    "import random\n",
    "\n",
    "import os\n",
    "from PIL import Image"
   ]
  },
  {
   "cell_type": "markdown",
   "id": "cecca098-3fd4-434d-a943-c7fab3b779d8",
   "metadata": {},
   "source": [
    "# 격자 길 찾기"
   ]
  },
  {
   "cell_type": "code",
   "execution_count": 3,
   "id": "efc694e2-a27e-49ef-9604-3c97f056913d",
   "metadata": {},
   "outputs": [
    {
     "data": {
      "image/png": "[encoded data removed]",
      "text/plain": [
       "<Figure size 600x600 with 1 Axes>"
      ]
     },
     "metadata": {},
     "output_type": "display_data"
    }
   ],
   "source": [
    "# 시각화 옵션 ---------------------------\n",
    "plt.figure(figsize=(6, 6))\n",
    "plt.xlim(-0.5, 10.5)\n",
    "plt.ylim(-0.5, 10.5)\n",
    "plt.xticks(range(0, 11))\n",
    "plt.yticks(range(0, 11))\n",
    "\n",
    "c_base = 'lightgreen'\n",
    "c_effect = 'olivedrab'\n",
    "c_false = 'springgreen'\n",
    "c_true = 'darkseagreen'\n",
    "c_block = 'darkgreen'\n",
    "# --------------------------------------\n",
    "\n",
    "# 클래스 -------------------------------\n",
    "class Point:\n",
    "    def __init__(self, x, y, c):\n",
    "        self.x = x\n",
    "        self.y = y\n",
    "        self.c = c\n",
    "# -------------------------------------\n",
    "        \n",
    "# 랜덤 옵션 ---------------------------\n",
    "# 랜덤 시드 ---------------------------\n",
    "random.seed(16)\n",
    "# -------------------------------------\n",
    "\n",
    "# 그래프 상태 -------------------------\n",
    "artists = []\n",
    "# -------------------------------------\n",
    "\n",
    "# 격자 크기\n",
    "N = 11\n",
    "# 맵\n",
    "# 0 은 벽, 1 은 길\n",
    "map_list = [[random.randint(0, 2) for __ in range(N)] for _ in range(N)]\n",
    "points = [Point(i, j, c_base if map_list[i][j] else c_block) for i in range(N) for j in range(N)]\n",
    "points[0].c = c_true\n",
    "\n",
    "plt.scatter([point.x for point in points], [point.y for point in points], s=400, marker='s', color=[point.c for point in points])\n",
    "plt.savefig('DFS_GRID/fig0.png', dpi=600)\n",
    "\n",
    "# x y 이동 가이드\n",
    "move_guide_x = [0, 1, 0, -1]\n",
    "move_guide_y = [1, 0, -1, 0]\n",
    "# 방문목록\n",
    "visited = [[1 for _ in range(N)] for _ in range(N)]\n",
    "# dfs\n",
    "stack = [[0, 0]]\n",
    "# 이미지 카운트\n",
    "img_cnt = 1\n",
    "# 스택이 빌 때 까지순회\n",
    "while stack:\n",
    "    # 현재 좌표\n",
    "    now_x, now_y = stack[-1]\n",
    "    # 현재 좌표 방문 기록\n",
    "    visited[now_x][now_y] = 0\n",
    "    # 이동 가능한 좌표 탐색\n",
    "    for i, (x, y) in enumerate(zip(move_guide_x, move_guide_y)):\n",
    "        # 후보 좌표\n",
    "        next_x = now_x + x\n",
    "        next_y = now_y + y\n",
    "        \n",
    "        ## 후보 좌표가 이동 가능한 좌표일 때\n",
    "        # 제한 좌표 안에 있는지\n",
    "        # 벽이 아닌지\n",
    "        # 방문하지 않은 좌표인지\n",
    "        if (next_x >= 0 and next_x < N and next_y >=0 and next_y < N) and (map_list[next_x][next_y]) and (visited[next_x][next_y]):\n",
    "            \n",
    "            # 시각화 --------------------------------------------------\n",
    "            points[next_x*N + next_y].c = c_true\n",
    "            plt.scatter([point.x for point in points], [point.y for point in points], s=400, marker='s', color=[point.c for point in points])\n",
    "            plt.savefig(f'DFS_GRID/fig{img_cnt}.png', dpi=600)\n",
    "            img_cnt += 1\n",
    "            # ---------------------------------------------------------\n",
    "            \n",
    "            # 스택에 추가\n",
    "            stack.append([next_x, next_y])\n",
    "            # 바로 다음 좌표 탐색\n",
    "            break\n",
    "        # 이동 가능한 좌표가 없으면\n",
    "        elif i == 3:\n",
    "                # 스택에서 팝\n",
    "                stack.pop()\n",
    "\n",
    "img_list = ['DFS_GRID' + '/' + img for img in os.listdir('DFS_GRID')]\n",
    "img_list.sort(key=lambda x: int(x.split('/')[1].split('.')[0][3:]))\n",
    "images = [Image.open(img) for img in img_list]\n",
    "\n",
    "gif = images[0]\n",
    "gif.save('DFS_GRID/DFS_GRID.gif', save_all=True, append_images=images[1:], loop=1, duration=500)"
   ]
  }
 ],
 "metadata": {
  "kernelspec": {
   "display_name": "Python 3 (ipykernel)",
   "language": "python",
   "name": "python3"
  },
  "language_info": {
   "codemirror_mode": {
    "name": "ipython",
    "version": 3
   },
   "file_extension": ".py",
   "mimetype": "text/x-python",
   "name": "python",
   "nbconvert_exporter": "python",
   "pygments_lexer": "ipython3",
   "version": "3.11.4"
  }
 },
 "nbformat": 4,
 "nbformat_minor": 5
}
